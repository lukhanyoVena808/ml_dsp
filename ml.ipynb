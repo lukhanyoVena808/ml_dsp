{
 "cells": [
  {
   "cell_type": "code",
   "execution_count": 31,
   "metadata": {},
   "outputs": [
    {
     "name": "stdout",
     "output_type": "stream",
     "text": [
      "shapes\\circles\\drawing(1).png\n",
      "shapes\\circles\\drawing(10).png\n",
      "shapes\\circles\\drawing(100).png\n",
      "shapes\\circles\\drawing(11).png\n",
      "shapes\\circles\\drawing(12).png\n",
      "shapes\\circles\\drawing(13).png\n",
      "shapes\\circles\\drawing(14).png\n",
      "shapes\\circles\\drawing(15).png\n",
      "shapes\\circles\\drawing(16).png\n",
      "shapes\\circles\\drawing(17).png\n",
      "shapes\\circles\\drawing(18).png\n",
      "shapes\\circles\\drawing(19).png\n",
      "shapes\\circles\\drawing(2).png\n",
      "shapes\\circles\\drawing(20).png\n",
      "shapes\\circles\\drawing(21).png\n",
      "shapes\\circles\\drawing(22).png\n",
      "shapes\\circles\\drawing(23).png\n",
      "shapes\\circles\\drawing(24).png\n",
      "shapes\\circles\\drawing(25).png\n",
      "shapes\\circles\\drawing(26).png\n",
      "shapes\\circles\\drawing(27).png\n",
      "shapes\\circles\\drawing(28).png\n",
      "shapes\\circles\\drawing(29).png\n",
      "shapes\\circles\\drawing(3).png\n",
      "shapes\\circles\\drawing(30).png\n",
      "shapes\\circles\\drawing(31).png\n",
      "shapes\\circles\\drawing(32).png\n",
      "shapes\\circles\\drawing(33).png\n",
      "shapes\\circles\\drawing(34).png\n",
      "shapes\\circles\\drawing(35).png\n",
      "shapes\\circles\\drawing(36).png\n",
      "shapes\\circles\\drawing(37).png\n",
      "shapes\\circles\\drawing(38).png\n",
      "shapes\\circles\\drawing(39).png\n",
      "shapes\\circles\\drawing(4).png\n",
      "shapes\\circles\\drawing(40).png\n",
      "shapes\\circles\\drawing(41).png\n",
      "shapes\\circles\\drawing(42).png\n",
      "shapes\\circles\\drawing(43).png\n",
      "shapes\\circles\\drawing(44).png\n",
      "shapes\\circles\\drawing(45).png\n",
      "shapes\\circles\\drawing(46).png\n",
      "shapes\\circles\\drawing(47).png\n",
      "shapes\\circles\\drawing(48).png\n",
      "shapes\\circles\\drawing(49).png\n",
      "shapes\\circles\\drawing(5).png\n",
      "shapes\\circles\\drawing(50).png\n",
      "shapes\\circles\\drawing(51).png\n",
      "shapes\\circles\\drawing(52).png\n",
      "shapes\\circles\\drawing(53).png\n",
      "shapes\\circles\\drawing(54).png\n",
      "shapes\\circles\\drawing(55).png\n",
      "shapes\\circles\\drawing(56).png\n",
      "shapes\\circles\\drawing(57).png\n",
      "shapes\\circles\\drawing(58).png\n",
      "shapes\\circles\\drawing(59).png\n",
      "shapes\\circles\\drawing(6).png\n",
      "shapes\\circles\\drawing(60).png\n",
      "shapes\\circles\\drawing(61).png\n",
      "shapes\\circles\\drawing(62).png\n",
      "shapes\\circles\\drawing(63).png\n",
      "shapes\\circles\\drawing(64).png\n",
      "shapes\\circles\\drawing(65).png\n",
      "shapes\\circles\\drawing(66).png\n",
      "shapes\\circles\\drawing(67).png\n",
      "shapes\\circles\\drawing(68).png\n",
      "shapes\\circles\\drawing(69).png\n",
      "shapes\\circles\\drawing(7).png\n",
      "shapes\\circles\\drawing(70).png\n",
      "shapes\\circles\\drawing(71).png\n",
      "shapes\\circles\\drawing(72).png\n",
      "shapes\\circles\\drawing(73).png\n",
      "shapes\\circles\\drawing(74).png\n",
      "shapes\\circles\\drawing(75).png\n",
      "shapes\\circles\\drawing(76).png\n",
      "shapes\\circles\\drawing(77).png\n",
      "shapes\\circles\\drawing(78).png\n",
      "shapes\\circles\\drawing(79).png\n",
      "shapes\\circles\\drawing(8).png\n",
      "shapes\\circles\\drawing(80).png\n",
      "shapes\\circles\\drawing(81).png\n",
      "shapes\\circles\\drawing(82).png\n",
      "shapes\\circles\\drawing(83).png\n",
      "shapes\\circles\\drawing(84).png\n",
      "shapes\\circles\\drawing(85).png\n",
      "shapes\\circles\\drawing(86).png\n",
      "shapes\\circles\\drawing(87).png\n",
      "shapes\\circles\\drawing(88).png\n",
      "shapes\\circles\\drawing(89).png\n",
      "shapes\\circles\\drawing(9).png\n",
      "shapes\\circles\\drawing(90).png\n",
      "shapes\\circles\\drawing(91).png\n",
      "shapes\\circles\\drawing(92).png\n",
      "shapes\\circles\\drawing(93).png\n",
      "shapes\\circles\\drawing(94).png\n",
      "shapes\\circles\\drawing(95).png\n",
      "shapes\\circles\\drawing(96).png\n",
      "shapes\\circles\\drawing(97).png\n",
      "shapes\\circles\\drawing(98).png\n",
      "shapes\\circles\\drawing(99).png\n",
      "shapes\\shapes\\circles\\drawing(1).png\n",
      "shapes\\shapes\\circles\\drawing(10).png\n",
      "shapes\\shapes\\circles\\drawing(100).png\n",
      "shapes\\shapes\\circles\\drawing(11).png\n",
      "shapes\\shapes\\circles\\drawing(12).png\n",
      "shapes\\shapes\\circles\\drawing(13).png\n",
      "shapes\\shapes\\circles\\drawing(14).png\n",
      "shapes\\shapes\\circles\\drawing(15).png\n",
      "shapes\\shapes\\circles\\drawing(16).png\n",
      "shapes\\shapes\\circles\\drawing(17).png\n",
      "shapes\\shapes\\circles\\drawing(18).png\n",
      "shapes\\shapes\\circles\\drawing(19).png\n",
      "shapes\\shapes\\circles\\drawing(2).png\n",
      "shapes\\shapes\\circles\\drawing(20).png\n",
      "shapes\\shapes\\circles\\drawing(21).png\n",
      "shapes\\shapes\\circles\\drawing(22).png\n",
      "shapes\\shapes\\circles\\drawing(23).png\n",
      "shapes\\shapes\\circles\\drawing(24).png\n",
      "shapes\\shapes\\circles\\drawing(25).png\n",
      "shapes\\shapes\\circles\\drawing(26).png\n",
      "shapes\\shapes\\circles\\drawing(27).png\n",
      "shapes\\shapes\\circles\\drawing(28).png\n",
      "shapes\\shapes\\circles\\drawing(29).png\n",
      "shapes\\shapes\\circles\\drawing(3).png\n",
      "shapes\\shapes\\circles\\drawing(30).png\n",
      "shapes\\shapes\\circles\\drawing(31).png\n",
      "shapes\\shapes\\circles\\drawing(32).png\n",
      "shapes\\shapes\\circles\\drawing(33).png\n",
      "shapes\\shapes\\circles\\drawing(34).png\n",
      "shapes\\shapes\\circles\\drawing(35).png\n",
      "shapes\\shapes\\circles\\drawing(36).png\n",
      "shapes\\shapes\\circles\\drawing(37).png\n",
      "shapes\\shapes\\circles\\drawing(38).png\n",
      "shapes\\shapes\\circles\\drawing(39).png\n",
      "shapes\\shapes\\circles\\drawing(4).png\n",
      "shapes\\shapes\\circles\\drawing(40).png\n",
      "shapes\\shapes\\circles\\drawing(41).png\n",
      "shapes\\shapes\\circles\\drawing(42).png\n",
      "shapes\\shapes\\circles\\drawing(43).png\n",
      "shapes\\shapes\\circles\\drawing(44).png\n",
      "shapes\\shapes\\circles\\drawing(45).png\n",
      "shapes\\shapes\\circles\\drawing(46).png\n",
      "shapes\\shapes\\circles\\drawing(47).png\n",
      "shapes\\shapes\\circles\\drawing(48).png\n",
      "shapes\\shapes\\circles\\drawing(49).png\n",
      "shapes\\shapes\\circles\\drawing(5).png\n",
      "shapes\\shapes\\circles\\drawing(50).png\n",
      "shapes\\shapes\\circles\\drawing(51).png\n",
      "shapes\\shapes\\circles\\drawing(52).png\n",
      "shapes\\shapes\\circles\\drawing(53).png\n",
      "shapes\\shapes\\circles\\drawing(54).png\n",
      "shapes\\shapes\\circles\\drawing(55).png\n",
      "shapes\\shapes\\circles\\drawing(56).png\n",
      "shapes\\shapes\\circles\\drawing(57).png\n",
      "shapes\\shapes\\circles\\drawing(58).png\n",
      "shapes\\shapes\\circles\\drawing(59).png\n",
      "shapes\\shapes\\circles\\drawing(6).png\n",
      "shapes\\shapes\\circles\\drawing(60).png\n",
      "shapes\\shapes\\circles\\drawing(61).png\n",
      "shapes\\shapes\\circles\\drawing(62).png\n",
      "shapes\\shapes\\circles\\drawing(63).png\n",
      "shapes\\shapes\\circles\\drawing(64).png\n",
      "shapes\\shapes\\circles\\drawing(65).png\n",
      "shapes\\shapes\\circles\\drawing(66).png\n",
      "shapes\\shapes\\circles\\drawing(67).png\n",
      "shapes\\shapes\\circles\\drawing(68).png\n",
      "shapes\\shapes\\circles\\drawing(69).png\n",
      "shapes\\shapes\\circles\\drawing(7).png\n",
      "shapes\\shapes\\circles\\drawing(70).png\n",
      "shapes\\shapes\\circles\\drawing(71).png\n",
      "shapes\\shapes\\circles\\drawing(72).png\n",
      "shapes\\shapes\\circles\\drawing(73).png\n",
      "shapes\\shapes\\circles\\drawing(74).png\n",
      "shapes\\shapes\\circles\\drawing(75).png\n",
      "shapes\\shapes\\circles\\drawing(76).png\n",
      "shapes\\shapes\\circles\\drawing(77).png\n",
      "shapes\\shapes\\circles\\drawing(78).png\n",
      "shapes\\shapes\\circles\\drawing(79).png\n",
      "shapes\\shapes\\circles\\drawing(8).png\n",
      "shapes\\shapes\\circles\\drawing(80).png\n",
      "shapes\\shapes\\circles\\drawing(81).png\n",
      "shapes\\shapes\\circles\\drawing(82).png\n",
      "shapes\\shapes\\circles\\drawing(83).png\n",
      "shapes\\shapes\\circles\\drawing(84).png\n",
      "shapes\\shapes\\circles\\drawing(85).png\n",
      "shapes\\shapes\\circles\\drawing(86).png\n",
      "shapes\\shapes\\circles\\drawing(87).png\n",
      "shapes\\shapes\\circles\\drawing(88).png\n",
      "shapes\\shapes\\circles\\drawing(89).png\n",
      "shapes\\shapes\\circles\\drawing(9).png\n",
      "shapes\\shapes\\circles\\drawing(90).png\n",
      "shapes\\shapes\\circles\\drawing(91).png\n",
      "shapes\\shapes\\circles\\drawing(92).png\n",
      "shapes\\shapes\\circles\\drawing(93).png\n",
      "shapes\\shapes\\circles\\drawing(94).png\n",
      "shapes\\shapes\\circles\\drawing(95).png\n",
      "shapes\\shapes\\circles\\drawing(96).png\n",
      "shapes\\shapes\\circles\\drawing(97).png\n",
      "shapes\\shapes\\circles\\drawing(98).png\n",
      "shapes\\shapes\\circles\\drawing(99).png\n",
      "shapes\\shapes\\squares\\drawing(1).png\n",
      "shapes\\shapes\\squares\\drawing(10).png\n",
      "shapes\\shapes\\squares\\drawing(100).png\n",
      "shapes\\shapes\\squares\\drawing(11).png\n",
      "shapes\\shapes\\squares\\drawing(12).png\n",
      "shapes\\shapes\\squares\\drawing(13).png\n",
      "shapes\\shapes\\squares\\drawing(14).png\n",
      "shapes\\shapes\\squares\\drawing(15).png\n",
      "shapes\\shapes\\squares\\drawing(16).png\n",
      "shapes\\shapes\\squares\\drawing(17).png\n",
      "shapes\\shapes\\squares\\drawing(18).png\n",
      "shapes\\shapes\\squares\\drawing(19).png\n",
      "shapes\\shapes\\squares\\drawing(2).png\n",
      "shapes\\shapes\\squares\\drawing(20).png\n",
      "shapes\\shapes\\squares\\drawing(21).png\n",
      "shapes\\shapes\\squares\\drawing(22).png\n",
      "shapes\\shapes\\squares\\drawing(23).png\n",
      "shapes\\shapes\\squares\\drawing(24).png\n",
      "shapes\\shapes\\squares\\drawing(25).png\n",
      "shapes\\shapes\\squares\\drawing(26).png\n",
      "shapes\\shapes\\squares\\drawing(27).png\n",
      "shapes\\shapes\\squares\\drawing(28).png\n",
      "shapes\\shapes\\squares\\drawing(29).png\n",
      "shapes\\shapes\\squares\\drawing(3).png\n",
      "shapes\\shapes\\squares\\drawing(30).png\n",
      "shapes\\shapes\\squares\\drawing(31).png\n",
      "shapes\\shapes\\squares\\drawing(32).png\n",
      "shapes\\shapes\\squares\\drawing(33).png\n",
      "shapes\\shapes\\squares\\drawing(34).png\n",
      "shapes\\shapes\\squares\\drawing(35).png\n",
      "shapes\\shapes\\squares\\drawing(36).png\n",
      "shapes\\shapes\\squares\\drawing(37).png\n",
      "shapes\\shapes\\squares\\drawing(38).png\n",
      "shapes\\shapes\\squares\\drawing(39).png\n",
      "shapes\\shapes\\squares\\drawing(4).png\n",
      "shapes\\shapes\\squares\\drawing(40).png\n",
      "shapes\\shapes\\squares\\drawing(41).png\n",
      "shapes\\shapes\\squares\\drawing(42).png\n",
      "shapes\\shapes\\squares\\drawing(43).png\n",
      "shapes\\shapes\\squares\\drawing(44).png\n",
      "shapes\\shapes\\squares\\drawing(45).png\n",
      "shapes\\shapes\\squares\\drawing(46).png\n",
      "shapes\\shapes\\squares\\drawing(47).png\n",
      "shapes\\shapes\\squares\\drawing(48).png\n",
      "shapes\\shapes\\squares\\drawing(49).png\n",
      "shapes\\shapes\\squares\\drawing(5).png\n",
      "shapes\\shapes\\squares\\drawing(50).png\n",
      "shapes\\shapes\\squares\\drawing(51).png\n",
      "shapes\\shapes\\squares\\drawing(52).png\n",
      "shapes\\shapes\\squares\\drawing(53).png\n",
      "shapes\\shapes\\squares\\drawing(54).png\n",
      "shapes\\shapes\\squares\\drawing(55).png\n",
      "shapes\\shapes\\squares\\drawing(56).png\n",
      "shapes\\shapes\\squares\\drawing(57).png\n",
      "shapes\\shapes\\squares\\drawing(58).png\n",
      "shapes\\shapes\\squares\\drawing(59).png\n",
      "shapes\\shapes\\squares\\drawing(6).png\n",
      "shapes\\shapes\\squares\\drawing(60).png\n",
      "shapes\\shapes\\squares\\drawing(61).png\n",
      "shapes\\shapes\\squares\\drawing(62).png\n",
      "shapes\\shapes\\squares\\drawing(63).png\n",
      "shapes\\shapes\\squares\\drawing(64).png\n",
      "shapes\\shapes\\squares\\drawing(65).png\n",
      "shapes\\shapes\\squares\\drawing(66).png\n",
      "shapes\\shapes\\squares\\drawing(67).png\n",
      "shapes\\shapes\\squares\\drawing(68).png\n",
      "shapes\\shapes\\squares\\drawing(69).png\n",
      "shapes\\shapes\\squares\\drawing(7).png\n",
      "shapes\\shapes\\squares\\drawing(70).png\n",
      "shapes\\shapes\\squares\\drawing(71).png\n",
      "shapes\\shapes\\squares\\drawing(72).png\n",
      "shapes\\shapes\\squares\\drawing(73).png\n",
      "shapes\\shapes\\squares\\drawing(74).png\n",
      "shapes\\shapes\\squares\\drawing(75).png\n",
      "shapes\\shapes\\squares\\drawing(76).png\n",
      "shapes\\shapes\\squares\\drawing(77).png\n",
      "shapes\\shapes\\squares\\drawing(78).png\n",
      "shapes\\shapes\\squares\\drawing(79).png\n",
      "shapes\\shapes\\squares\\drawing(8).png\n",
      "shapes\\shapes\\squares\\drawing(80).png\n",
      "shapes\\shapes\\squares\\drawing(81).png\n",
      "shapes\\shapes\\squares\\drawing(82).png\n",
      "shapes\\shapes\\squares\\drawing(83).png\n",
      "shapes\\shapes\\squares\\drawing(84).png\n",
      "shapes\\shapes\\squares\\drawing(85).png\n",
      "shapes\\shapes\\squares\\drawing(86).png\n",
      "shapes\\shapes\\squares\\drawing(87).png\n",
      "shapes\\shapes\\squares\\drawing(88).png\n",
      "shapes\\shapes\\squares\\drawing(89).png\n",
      "shapes\\shapes\\squares\\drawing(9).png\n",
      "shapes\\shapes\\squares\\drawing(90).png\n",
      "shapes\\shapes\\squares\\drawing(91).png\n",
      "shapes\\shapes\\squares\\drawing(92).png\n",
      "shapes\\shapes\\squares\\drawing(93).png\n",
      "shapes\\shapes\\squares\\drawing(94).png\n",
      "shapes\\shapes\\squares\\drawing(95).png\n",
      "shapes\\shapes\\squares\\drawing(96).png\n",
      "shapes\\shapes\\squares\\drawing(97).png\n",
      "shapes\\shapes\\squares\\drawing(98).png\n",
      "shapes\\shapes\\squares\\drawing(99).png\n",
      "shapes\\shapes\\triangles\\drawing(1).png\n",
      "shapes\\shapes\\triangles\\drawing(10).png\n",
      "shapes\\shapes\\triangles\\drawing(100).png\n",
      "shapes\\shapes\\triangles\\drawing(11).png\n",
      "shapes\\shapes\\triangles\\drawing(12).png\n",
      "shapes\\shapes\\triangles\\drawing(13).png\n",
      "shapes\\shapes\\triangles\\drawing(14).png\n",
      "shapes\\shapes\\triangles\\drawing(15).png\n",
      "shapes\\shapes\\triangles\\drawing(16).png\n",
      "shapes\\shapes\\triangles\\drawing(17).png\n",
      "shapes\\shapes\\triangles\\drawing(18).png\n",
      "shapes\\shapes\\triangles\\drawing(19).png\n",
      "shapes\\shapes\\triangles\\drawing(2).png\n",
      "shapes\\shapes\\triangles\\drawing(20).png\n",
      "shapes\\shapes\\triangles\\drawing(21).png\n",
      "shapes\\shapes\\triangles\\drawing(22).png\n",
      "shapes\\shapes\\triangles\\drawing(23).png\n",
      "shapes\\shapes\\triangles\\drawing(24).png\n",
      "shapes\\shapes\\triangles\\drawing(25).png\n",
      "shapes\\shapes\\triangles\\drawing(26).png\n",
      "shapes\\shapes\\triangles\\drawing(27).png\n",
      "shapes\\shapes\\triangles\\drawing(28).png\n",
      "shapes\\shapes\\triangles\\drawing(29).png\n",
      "shapes\\shapes\\triangles\\drawing(3).png\n",
      "shapes\\shapes\\triangles\\drawing(30).png\n",
      "shapes\\shapes\\triangles\\drawing(31).png\n",
      "shapes\\shapes\\triangles\\drawing(32).png\n",
      "shapes\\shapes\\triangles\\drawing(33).png\n",
      "shapes\\shapes\\triangles\\drawing(34).png\n",
      "shapes\\shapes\\triangles\\drawing(35).png\n",
      "shapes\\shapes\\triangles\\drawing(36).png\n",
      "shapes\\shapes\\triangles\\drawing(37).png\n",
      "shapes\\shapes\\triangles\\drawing(38).png\n",
      "shapes\\shapes\\triangles\\drawing(39).png\n",
      "shapes\\shapes\\triangles\\drawing(4).png\n",
      "shapes\\shapes\\triangles\\drawing(40).png\n",
      "shapes\\shapes\\triangles\\drawing(41).png\n",
      "shapes\\shapes\\triangles\\drawing(42).png\n",
      "shapes\\shapes\\triangles\\drawing(43).png\n",
      "shapes\\shapes\\triangles\\drawing(44).png\n",
      "shapes\\shapes\\triangles\\drawing(45).png\n",
      "shapes\\shapes\\triangles\\drawing(46).png\n",
      "shapes\\shapes\\triangles\\drawing(47).png\n",
      "shapes\\shapes\\triangles\\drawing(48).png\n",
      "shapes\\shapes\\triangles\\drawing(49).png\n",
      "shapes\\shapes\\triangles\\drawing(5).png\n",
      "shapes\\shapes\\triangles\\drawing(50).png\n",
      "shapes\\shapes\\triangles\\drawing(51).png\n",
      "shapes\\shapes\\triangles\\drawing(52).png\n",
      "shapes\\shapes\\triangles\\drawing(53).png\n",
      "shapes\\shapes\\triangles\\drawing(54).png\n",
      "shapes\\shapes\\triangles\\drawing(55).png\n",
      "shapes\\shapes\\triangles\\drawing(56).png\n",
      "shapes\\shapes\\triangles\\drawing(57).png\n",
      "shapes\\shapes\\triangles\\drawing(58).png\n",
      "shapes\\shapes\\triangles\\drawing(59).png\n",
      "shapes\\shapes\\triangles\\drawing(6).png\n",
      "shapes\\shapes\\triangles\\drawing(60).png\n",
      "shapes\\shapes\\triangles\\drawing(61).png\n",
      "shapes\\shapes\\triangles\\drawing(62).png\n",
      "shapes\\shapes\\triangles\\drawing(63).png\n",
      "shapes\\shapes\\triangles\\drawing(64).png\n",
      "shapes\\shapes\\triangles\\drawing(65).png\n",
      "shapes\\shapes\\triangles\\drawing(66).png\n",
      "shapes\\shapes\\triangles\\drawing(67).png\n",
      "shapes\\shapes\\triangles\\drawing(68).png\n",
      "shapes\\shapes\\triangles\\drawing(69).png\n",
      "shapes\\shapes\\triangles\\drawing(7).png\n",
      "shapes\\shapes\\triangles\\drawing(70).png\n",
      "shapes\\shapes\\triangles\\drawing(71).png\n",
      "shapes\\shapes\\triangles\\drawing(72).png\n",
      "shapes\\shapes\\triangles\\drawing(73).png\n",
      "shapes\\shapes\\triangles\\drawing(74).png\n",
      "shapes\\shapes\\triangles\\drawing(75).png\n",
      "shapes\\shapes\\triangles\\drawing(76).png\n",
      "shapes\\shapes\\triangles\\drawing(77).png\n",
      "shapes\\shapes\\triangles\\drawing(78).png\n",
      "shapes\\shapes\\triangles\\drawing(79).png\n",
      "shapes\\shapes\\triangles\\drawing(8).png\n",
      "shapes\\shapes\\triangles\\drawing(80).png\n",
      "shapes\\shapes\\triangles\\drawing(81).png\n",
      "shapes\\shapes\\triangles\\drawing(82).png\n",
      "shapes\\shapes\\triangles\\drawing(83).png\n",
      "shapes\\shapes\\triangles\\drawing(84).png\n",
      "shapes\\shapes\\triangles\\drawing(85).png\n",
      "shapes\\shapes\\triangles\\drawing(86).png\n",
      "shapes\\shapes\\triangles\\drawing(87).png\n",
      "shapes\\shapes\\triangles\\drawing(88).png\n",
      "shapes\\shapes\\triangles\\drawing(89).png\n",
      "shapes\\shapes\\triangles\\drawing(9).png\n",
      "shapes\\shapes\\triangles\\drawing(90).png\n",
      "shapes\\shapes\\triangles\\drawing(91).png\n",
      "shapes\\shapes\\triangles\\drawing(92).png\n",
      "shapes\\shapes\\triangles\\drawing(93).png\n",
      "shapes\\shapes\\triangles\\drawing(94).png\n",
      "shapes\\shapes\\triangles\\drawing(95).png\n",
      "shapes\\shapes\\triangles\\drawing(96).png\n",
      "shapes\\shapes\\triangles\\drawing(97).png\n",
      "shapes\\shapes\\triangles\\drawing(98).png\n",
      "shapes\\shapes\\triangles\\drawing(99).png\n",
      "shapes\\squares\\drawing(1).png\n",
      "shapes\\squares\\drawing(10).png\n",
      "shapes\\squares\\drawing(100).png\n",
      "shapes\\squares\\drawing(11).png\n",
      "shapes\\squares\\drawing(12).png\n",
      "shapes\\squares\\drawing(13).png\n",
      "shapes\\squares\\drawing(14).png\n",
      "shapes\\squares\\drawing(15).png\n",
      "shapes\\squares\\drawing(16).png\n",
      "shapes\\squares\\drawing(17).png\n",
      "shapes\\squares\\drawing(18).png\n",
      "shapes\\squares\\drawing(19).png\n",
      "shapes\\squares\\drawing(2).png\n",
      "shapes\\squares\\drawing(20).png\n",
      "shapes\\squares\\drawing(21).png\n",
      "shapes\\squares\\drawing(22).png\n",
      "shapes\\squares\\drawing(23).png\n",
      "shapes\\squares\\drawing(24).png\n",
      "shapes\\squares\\drawing(25).png\n",
      "shapes\\squares\\drawing(26).png\n",
      "shapes\\squares\\drawing(27).png\n",
      "shapes\\squares\\drawing(28).png\n",
      "shapes\\squares\\drawing(29).png\n",
      "shapes\\squares\\drawing(3).png\n",
      "shapes\\squares\\drawing(30).png\n",
      "shapes\\squares\\drawing(31).png\n",
      "shapes\\squares\\drawing(32).png\n",
      "shapes\\squares\\drawing(33).png\n",
      "shapes\\squares\\drawing(34).png\n",
      "shapes\\squares\\drawing(35).png\n",
      "shapes\\squares\\drawing(36).png\n",
      "shapes\\squares\\drawing(37).png\n",
      "shapes\\squares\\drawing(38).png\n",
      "shapes\\squares\\drawing(39).png\n",
      "shapes\\squares\\drawing(4).png\n",
      "shapes\\squares\\drawing(40).png\n",
      "shapes\\squares\\drawing(41).png\n",
      "shapes\\squares\\drawing(42).png\n",
      "shapes\\squares\\drawing(43).png\n",
      "shapes\\squares\\drawing(44).png\n",
      "shapes\\squares\\drawing(45).png\n",
      "shapes\\squares\\drawing(46).png\n",
      "shapes\\squares\\drawing(47).png\n",
      "shapes\\squares\\drawing(48).png\n",
      "shapes\\squares\\drawing(49).png\n",
      "shapes\\squares\\drawing(5).png\n",
      "shapes\\squares\\drawing(50).png\n",
      "shapes\\squares\\drawing(51).png\n",
      "shapes\\squares\\drawing(52).png\n",
      "shapes\\squares\\drawing(53).png\n",
      "shapes\\squares\\drawing(54).png\n",
      "shapes\\squares\\drawing(55).png\n",
      "shapes\\squares\\drawing(56).png\n",
      "shapes\\squares\\drawing(57).png\n",
      "shapes\\squares\\drawing(58).png\n",
      "shapes\\squares\\drawing(59).png\n",
      "shapes\\squares\\drawing(6).png\n",
      "shapes\\squares\\drawing(60).png\n",
      "shapes\\squares\\drawing(61).png\n",
      "shapes\\squares\\drawing(62).png\n",
      "shapes\\squares\\drawing(63).png\n",
      "shapes\\squares\\drawing(64).png\n",
      "shapes\\squares\\drawing(65).png\n",
      "shapes\\squares\\drawing(66).png\n",
      "shapes\\squares\\drawing(67).png\n",
      "shapes\\squares\\drawing(68).png\n",
      "shapes\\squares\\drawing(69).png\n",
      "shapes\\squares\\drawing(7).png\n",
      "shapes\\squares\\drawing(70).png\n",
      "shapes\\squares\\drawing(71).png\n",
      "shapes\\squares\\drawing(72).png\n",
      "shapes\\squares\\drawing(73).png\n",
      "shapes\\squares\\drawing(74).png\n",
      "shapes\\squares\\drawing(75).png\n",
      "shapes\\squares\\drawing(76).png\n",
      "shapes\\squares\\drawing(77).png\n",
      "shapes\\squares\\drawing(78).png\n",
      "shapes\\squares\\drawing(79).png\n",
      "shapes\\squares\\drawing(8).png\n",
      "shapes\\squares\\drawing(80).png\n",
      "shapes\\squares\\drawing(81).png\n",
      "shapes\\squares\\drawing(82).png\n",
      "shapes\\squares\\drawing(83).png\n",
      "shapes\\squares\\drawing(84).png\n",
      "shapes\\squares\\drawing(85).png\n",
      "shapes\\squares\\drawing(86).png\n",
      "shapes\\squares\\drawing(87).png\n",
      "shapes\\squares\\drawing(88).png\n",
      "shapes\\squares\\drawing(89).png\n",
      "shapes\\squares\\drawing(9).png\n",
      "shapes\\squares\\drawing(90).png\n",
      "shapes\\squares\\drawing(91).png\n",
      "shapes\\squares\\drawing(92).png\n",
      "shapes\\squares\\drawing(93).png\n",
      "shapes\\squares\\drawing(94).png\n",
      "shapes\\squares\\drawing(95).png\n",
      "shapes\\squares\\drawing(96).png\n",
      "shapes\\squares\\drawing(97).png\n",
      "shapes\\squares\\drawing(98).png\n",
      "shapes\\squares\\drawing(99).png\n",
      "shapes\\triangles\\drawing(1).png\n",
      "shapes\\triangles\\drawing(10).png\n",
      "shapes\\triangles\\drawing(100).png\n",
      "shapes\\triangles\\drawing(11).png\n",
      "shapes\\triangles\\drawing(12).png\n",
      "shapes\\triangles\\drawing(13).png\n",
      "shapes\\triangles\\drawing(14).png\n",
      "shapes\\triangles\\drawing(15).png\n",
      "shapes\\triangles\\drawing(16).png\n",
      "shapes\\triangles\\drawing(17).png\n",
      "shapes\\triangles\\drawing(18).png\n",
      "shapes\\triangles\\drawing(19).png\n",
      "shapes\\triangles\\drawing(2).png\n",
      "shapes\\triangles\\drawing(20).png\n",
      "shapes\\triangles\\drawing(21).png\n",
      "shapes\\triangles\\drawing(22).png\n",
      "shapes\\triangles\\drawing(23).png\n",
      "shapes\\triangles\\drawing(24).png\n",
      "shapes\\triangles\\drawing(25).png\n",
      "shapes\\triangles\\drawing(26).png\n",
      "shapes\\triangles\\drawing(27).png\n",
      "shapes\\triangles\\drawing(28).png\n",
      "shapes\\triangles\\drawing(29).png\n",
      "shapes\\triangles\\drawing(3).png\n",
      "shapes\\triangles\\drawing(30).png\n",
      "shapes\\triangles\\drawing(31).png\n",
      "shapes\\triangles\\drawing(32).png\n",
      "shapes\\triangles\\drawing(33).png\n",
      "shapes\\triangles\\drawing(34).png\n",
      "shapes\\triangles\\drawing(35).png\n",
      "shapes\\triangles\\drawing(36).png\n",
      "shapes\\triangles\\drawing(37).png\n",
      "shapes\\triangles\\drawing(38).png\n",
      "shapes\\triangles\\drawing(39).png\n",
      "shapes\\triangles\\drawing(4).png\n",
      "shapes\\triangles\\drawing(40).png\n",
      "shapes\\triangles\\drawing(41).png\n",
      "shapes\\triangles\\drawing(42).png\n",
      "shapes\\triangles\\drawing(43).png\n",
      "shapes\\triangles\\drawing(44).png\n",
      "shapes\\triangles\\drawing(45).png\n",
      "shapes\\triangles\\drawing(46).png\n",
      "shapes\\triangles\\drawing(47).png\n",
      "shapes\\triangles\\drawing(48).png\n",
      "shapes\\triangles\\drawing(49).png\n",
      "shapes\\triangles\\drawing(5).png\n",
      "shapes\\triangles\\drawing(50).png\n",
      "shapes\\triangles\\drawing(51).png\n",
      "shapes\\triangles\\drawing(52).png\n",
      "shapes\\triangles\\drawing(53).png\n",
      "shapes\\triangles\\drawing(54).png\n",
      "shapes\\triangles\\drawing(55).png\n",
      "shapes\\triangles\\drawing(56).png\n",
      "shapes\\triangles\\drawing(57).png\n",
      "shapes\\triangles\\drawing(58).png\n",
      "shapes\\triangles\\drawing(59).png\n",
      "shapes\\triangles\\drawing(6).png\n",
      "shapes\\triangles\\drawing(60).png\n",
      "shapes\\triangles\\drawing(61).png\n",
      "shapes\\triangles\\drawing(62).png\n",
      "shapes\\triangles\\drawing(63).png\n",
      "shapes\\triangles\\drawing(64).png\n",
      "shapes\\triangles\\drawing(65).png\n",
      "shapes\\triangles\\drawing(66).png\n",
      "shapes\\triangles\\drawing(67).png\n",
      "shapes\\triangles\\drawing(68).png\n",
      "shapes\\triangles\\drawing(69).png\n",
      "shapes\\triangles\\drawing(7).png\n",
      "shapes\\triangles\\drawing(70).png\n",
      "shapes\\triangles\\drawing(71).png\n",
      "shapes\\triangles\\drawing(72).png\n",
      "shapes\\triangles\\drawing(73).png\n",
      "shapes\\triangles\\drawing(74).png\n",
      "shapes\\triangles\\drawing(75).png\n",
      "shapes\\triangles\\drawing(76).png\n",
      "shapes\\triangles\\drawing(77).png\n",
      "shapes\\triangles\\drawing(78).png\n",
      "shapes\\triangles\\drawing(79).png\n",
      "shapes\\triangles\\drawing(8).png\n",
      "shapes\\triangles\\drawing(80).png\n",
      "shapes\\triangles\\drawing(81).png\n",
      "shapes\\triangles\\drawing(82).png\n",
      "shapes\\triangles\\drawing(83).png\n",
      "shapes\\triangles\\drawing(84).png\n",
      "shapes\\triangles\\drawing(85).png\n",
      "shapes\\triangles\\drawing(86).png\n",
      "shapes\\triangles\\drawing(87).png\n",
      "shapes\\triangles\\drawing(88).png\n",
      "shapes\\triangles\\drawing(89).png\n",
      "shapes\\triangles\\drawing(9).png\n",
      "shapes\\triangles\\drawing(90).png\n",
      "shapes\\triangles\\drawing(91).png\n",
      "shapes\\triangles\\drawing(92).png\n",
      "shapes\\triangles\\drawing(93).png\n",
      "shapes\\triangles\\drawing(94).png\n",
      "shapes\\triangles\\drawing(95).png\n",
      "shapes\\triangles\\drawing(96).png\n",
      "shapes\\triangles\\drawing(97).png\n",
      "shapes\\triangles\\drawing(98).png\n",
      "shapes\\triangles\\drawing(99).png\n"
     ]
    }
   ],
   "source": [
    "#All code adapted from: https://www.kaggle.com/code/tard232003/20bd1a6754-basic-shapes\n",
    "import numpy as np # linear algebra\n",
    "import pandas as pd # data processing, CSV file I/O (e.g. pd.read_csv)\n",
    "import matplotlib.pyplot as plt\n",
    "from matplotlib import image\n",
    "import os\n",
    "\n",
    "# Input data files are available in the read-only \"../input/\" directory\n",
    "\n",
    "for dirname, _, filenames in os.walk('shapes'):\n",
    "    for filename in filenames:\n",
    "        print(os.path.join(dirname, filename))"
   ]
  },
  {
   "cell_type": "code",
   "execution_count": 32,
   "metadata": {},
   "outputs": [],
   "source": [
    "im=image.imread('shapes/squares/drawing(1).png')\n"
   ]
  },
  {
   "cell_type": "code",
   "execution_count": 33,
   "metadata": {},
   "outputs": [
    {
     "data": {
      "text/plain": [
       "<matplotlib.image.AxesImage at 0x1b66e4f9370>"
      ]
     },
     "execution_count": 33,
     "metadata": {},
     "output_type": "execute_result"
    },
    {
     "data": {
      "image/png": "[encoded data removed]",
      "text/plain": [
       "<Figure size 640x480 with 1 Axes>"
      ]
     },
     "metadata": {},
     "output_type": "display_data"
    }
   ],
   "source": [
    "plt.imshow(im)"
   ]
  },
  {
   "cell_type": "code",
   "execution_count": 34,
   "metadata": {},
   "outputs": [],
   "source": [
    "\n",
    "#Flattening the images, makes each image into 1d-array -> with the output\n",
    "from PIL import Image\n",
    "def load_imgs(impath):\n",
    "    imgs=[]\n",
    "    label=[]\n",
    "    l1=os.listdir(impath)\n",
    "    for i in l1:\n",
    "        l2=os.listdir(impath+'/'+i)\n",
    "        for j in l2:\n",
    "            c=0\n",
    "            img=Image.open(impath+i+'/'+j)\n",
    "            img=img.resize(size=(32,32))\n",
    "            img=img.convert('L')\n",
    "            imgs.append(np.array(img).flatten())\n",
    "            label.append(i)\n",
    "            del img\n",
    "    return np.array(imgs),label"
   ]
  },
  {
   "cell_type": "code",
   "execution_count": 35,
   "metadata": {},
   "outputs": [
    {
     "data": {
      "text/plain": [
       "((300, 1024), 300)"
      ]
     },
     "execution_count": 35,
     "metadata": {},
     "output_type": "execute_result"
    }
   ],
   "source": [
    "#getting flattened images, each shape( triangle, circle, square) has 100 images, and each image is an array (32 x 32 = 1024 elements), \n",
    "# and the output y is the shape each array is associated with.\n",
    "x,y=load_imgs('shapes/shapes/')\n",
    "x.shape,len(y)"
   ]
  },
  {
   "cell_type": "code",
   "execution_count": 36,
   "metadata": {},
   "outputs": [
    {
     "data": {
      "text/plain": [
       "0        circles\n",
       "1        circles\n",
       "2        circles\n",
       "3        circles\n",
       "4        circles\n",
       "         ...    \n",
       "295    triangles\n",
       "296    triangles\n",
       "297    triangles\n",
       "298    triangles\n",
       "299    triangles\n",
       "Length: 300, dtype: category\n",
       "Categories (3, object): ['circles', 'squares', 'triangles']"
      ]
     },
     "execution_count": 36,
     "metadata": {},
     "output_type": "execute_result"
    }
   ],
   "source": [
    "# Printing possible truth - labels\n",
    "target=pd.Series(y,dtype='category')\n",
    "target"
   ]
  },
  {
   "cell_type": "code",
   "execution_count": 37,
   "metadata": {},
   "outputs": [
    {
     "data": {
      "text/plain": [
       "0      0\n",
       "1      0\n",
       "2      0\n",
       "3      0\n",
       "4      0\n",
       "      ..\n",
       "295    2\n",
       "296    2\n",
       "297    2\n",
       "298    2\n",
       "299    2\n",
       "Length: 300, dtype: int8"
      ]
     },
     "execution_count": 37,
     "metadata": {},
     "output_type": "execute_result"
    }
   ],
   "source": [
    "t=target.cat.codes\n",
    "t"
   ]
  },
  {
   "cell_type": "code",
   "execution_count": 38,
   "metadata": {},
   "outputs": [
    {
     "data": {
      "text/plain": [
       "((240, 1024), (60, 1024), (240,), (60,))"
      ]
     },
     "execution_count": 38,
     "metadata": {},
     "output_type": "execute_result"
    }
   ],
   "source": [
    "from sklearn.model_selection import train_test_split\n",
    "train_x,test_x,train_y,test_y=train_test_split(x,t,test_size=0.2,shuffle=True)\n",
    "train_x.shape,test_x.shape,train_y.shape,test_y.shape"
   ]
  },
  {
   "cell_type": "code",
   "execution_count": 39,
   "metadata": {},
   "outputs": [
    {
     "name": "stderr",
     "output_type": "stream",
     "text": [
      "c:\\Users\\Student\\anaconda3\\lib\\site-packages\\sklearn\\linear_model\\_sag.py:350: ConvergenceWarning: The max_iter was reached which means the coef_ did not converge\n",
      "  warnings.warn(\n"
     ]
    },
    {
     "data": {
      "text/html": [
       "<style>#sk-container-id-3 {color: black;background-color: white;}#sk-container-id-3 pre{padding: 0;}#sk-container-id-3 div.sk-toggleable {background-color: white;}#sk-container-id-3 label.sk-toggleable__label {cursor: pointer;display: block;width: 100%;margin-bottom: 0;padding: 0.3em;box-sizing: border-box;text-align: center;}#sk-container-id-3 label.sk-toggleable__label-arrow:before {content: \"▸\";float: left;margin-right: 0.25em;color: #696969;}#sk-container-id-3 label.sk-toggleable__label-arrow:hover:before {color: black;}#sk-container-id-3 div.sk-estimator:hover label.sk-toggleable__label-arrow:before {color: black;}#sk-container-id-3 div.sk-toggleable__content {max-height: 0;max-width: 0;overflow: hidden;text-align: left;background-color: #f0f8ff;}#sk-container-id-3 div.sk-toggleable__content pre {margin: 0.2em;color: black;border-radius: 0.25em;background-color: #f0f8ff;}#sk-container-id-3 input.sk-toggleable__control:checked~div.sk-toggleable__content {max-height: 200px;max-width: 100%;overflow: auto;}#sk-container-id-3 input.sk-toggleable__control:checked~label.sk-toggleable__label-arrow:before {content: \"▾\";}#sk-container-id-3 div.sk-estimator input.sk-toggleable__control:checked~label.sk-toggleable__label {background-color: #d4ebff;}#sk-container-id-3 div.sk-label input.sk-toggleable__control:checked~label.sk-toggleable__label {background-color: #d4ebff;}#sk-container-id-3 input.sk-hidden--visually {border: 0;clip: rect(1px 1px 1px 1px);clip: rect(1px, 1px, 1px, 1px);height: 1px;margin: -1px;overflow: hidden;padding: 0;position: absolute;width: 1px;}#sk-container-id-3 div.sk-estimator {font-family: monospace;background-color: #f0f8ff;border: 1px dotted black;border-radius: 0.25em;box-sizing: border-box;margin-bottom: 0.5em;}#sk-container-id-3 div.sk-estimator:hover {background-color: #d4ebff;}#sk-container-id-3 div.sk-parallel-item::after {content: \"\";width: 100%;border-bottom: 1px solid gray;flex-grow: 1;}#sk-container-id-3 div.sk-label:hover label.sk-toggleable__label {background-color: #d4ebff;}#sk-container-id-3 div.sk-serial::before {content: \"\";position: absolute;border-left: 1px solid gray;box-sizing: border-box;top: 0;bottom: 0;left: 50%;z-index: 0;}#sk-container-id-3 div.sk-serial {display: flex;flex-direction: column;align-items: center;background-color: white;padding-right: 0.2em;padding-left: 0.2em;position: relative;}#sk-container-id-3 div.sk-item {position: relative;z-index: 1;}#sk-container-id-3 div.sk-parallel {display: flex;align-items: stretch;justify-content: center;background-color: white;position: relative;}#sk-container-id-3 div.sk-item::before, #sk-container-id-3 div.sk-parallel-item::before {content: \"\";position: absolute;border-left: 1px solid gray;box-sizing: border-box;top: 0;bottom: 0;left: 50%;z-index: -1;}#sk-container-id-3 div.sk-parallel-item {display: flex;flex-direction: column;z-index: 1;position: relative;background-color: white;}#sk-container-id-3 div.sk-parallel-item:first-child::after {align-self: flex-end;width: 50%;}#sk-container-id-3 div.sk-parallel-item:last-child::after {align-self: flex-start;width: 50%;}#sk-container-id-3 div.sk-parallel-item:only-child::after {width: 0;}#sk-container-id-3 div.sk-dashed-wrapped {border: 1px dashed gray;margin: 0 0.4em 0.5em 0.4em;box-sizing: border-box;padding-bottom: 0.4em;background-color: white;}#sk-container-id-3 div.sk-label label {font-family: monospace;font-weight: bold;display: inline-block;line-height: 1.2em;}#sk-container-id-3 div.sk-label-container {text-align: center;}#sk-container-id-3 div.sk-container {/* jupyter's `normalize.less` sets `[hidden] { display: none; }` but bootstrap.min.css set `[hidden] { display: none !important; }` so we also need the `!important` here to be able to override the default hidden behavior on the sphinx rendered scikit-learn.org. See: https://github.com/scikit-learn/scikit-learn/issues/21755 */display: inline-block !important;position: relative;}#sk-container-id-3 div.sk-text-repr-fallback {display: none;}</style><div id=\"sk-container-id-3\" class=\"sk-top-container\"><div class=\"sk-text-repr-fallback\"><pre>LogisticRegression(max_iter=200, solver=&#x27;saga&#x27;)</pre><b>In a Jupyter environment, please rerun this cell to show the HTML representation or trust the notebook. <br />On GitHub, the HTML representation is unable to render, please try loading this page with nbviewer.org.</b></div><div class=\"sk-container\" hidden><div class=\"sk-item\"><div class=\"sk-estimator sk-toggleable\"><input class=\"sk-toggleable__control sk-hidden--visually\" id=\"sk-estimator-id-3\" type=\"checkbox\" checked><label for=\"sk-estimator-id-3\" class=\"sk-toggleable__label sk-toggleable__label-arrow\">LogisticRegression</label><div class=\"sk-toggleable__content\"><pre>LogisticRegression(max_iter=200, solver=&#x27;saga&#x27;)</pre></div></div></div></div></div>"
      ],
      "text/plain": [
       "LogisticRegression(max_iter=200, solver='saga')"
      ]
     },
     "execution_count": 39,
     "metadata": {},
     "output_type": "execute_result"
    }
   ],
   "source": [
    "#LOGISTIC REGRESSION model\n",
    "from sklearn.linear_model import LogisticRegression\n",
    "lg=LogisticRegression(max_iter=200,solver='saga')\n",
    "lg.fit(train_x,train_y)"
   ]
  },
  {
   "cell_type": "code",
   "execution_count": 40,
   "metadata": {},
   "outputs": [
    {
     "data": {
      "text/plain": [
       "array([0, 2, 1, 2, 0, 1, 2, 0, 1, 2, 1, 2, 1, 1, 0, 1, 0, 2, 2, 1, 2, 2,\n",
       "       1, 0, 1, 1, 1, 0, 0, 2, 0, 2, 2, 1, 1, 1, 0, 0, 2, 0, 2, 2, 1, 2,\n",
       "       1, 0, 1, 0, 2, 0, 0, 1, 2, 0, 0, 1, 0, 1, 2, 0], dtype=int8)"
      ]
     },
     "execution_count": 40,
     "metadata": {},
     "output_type": "execute_result"
    }
   ],
   "source": [
    "yhat=lg.predict(test_x)   #making predictions, but modle might need more training, has no validation phase\n",
    "yhat"
   ]
  },
  {
   "cell_type": "code",
   "execution_count": 41,
   "metadata": {},
   "outputs": [
    {
     "data": {
      "text/plain": [
       "0.55"
      ]
     },
     "execution_count": 41,
     "metadata": {},
     "output_type": "execute_result"
    }
   ],
   "source": [
    "from sklearn.metrics import accuracy_score\n",
    "accuracy_score(test_y,yhat)   #computing accuarcy"
   ]
  },
  {
   "cell_type": "code",
   "execution_count": 42,
   "metadata": {},
   "outputs": [
    {
     "data": {
      "text/html": [
       "<style>#sk-container-id-4 {color: black;background-color: white;}#sk-container-id-4 pre{padding: 0;}#sk-container-id-4 div.sk-toggleable {background-color: white;}#sk-container-id-4 label.sk-toggleable__label {cursor: pointer;display: block;width: 100%;margin-bottom: 0;padding: 0.3em;box-sizing: border-box;text-align: center;}#sk-container-id-4 label.sk-toggleable__label-arrow:before {content: \"▸\";float: left;margin-right: 0.25em;color: #696969;}#sk-container-id-4 label.sk-toggleable__label-arrow:hover:before {color: black;}#sk-container-id-4 div.sk-estimator:hover label.sk-toggleable__label-arrow:before {color: black;}#sk-container-id-4 div.sk-toggleable__content {max-height: 0;max-width: 0;overflow: hidden;text-align: left;background-color: #f0f8ff;}#sk-container-id-4 div.sk-toggleable__content pre {margin: 0.2em;color: black;border-radius: 0.25em;background-color: #f0f8ff;}#sk-container-id-4 input.sk-toggleable__control:checked~div.sk-toggleable__content {max-height: 200px;max-width: 100%;overflow: auto;}#sk-container-id-4 input.sk-toggleable__control:checked~label.sk-toggleable__label-arrow:before {content: \"▾\";}#sk-container-id-4 div.sk-estimator input.sk-toggleable__control:checked~label.sk-toggleable__label {background-color: #d4ebff;}#sk-container-id-4 div.sk-label input.sk-toggleable__control:checked~label.sk-toggleable__label {background-color: #d4ebff;}#sk-container-id-4 input.sk-hidden--visually {border: 0;clip: rect(1px 1px 1px 1px);clip: rect(1px, 1px, 1px, 1px);height: 1px;margin: -1px;overflow: hidden;padding: 0;position: absolute;width: 1px;}#sk-container-id-4 div.sk-estimator {font-family: monospace;background-color: #f0f8ff;border: 1px dotted black;border-radius: 0.25em;box-sizing: border-box;margin-bottom: 0.5em;}#sk-container-id-4 div.sk-estimator:hover {background-color: #d4ebff;}#sk-container-id-4 div.sk-parallel-item::after {content: \"\";width: 100%;border-bottom: 1px solid gray;flex-grow: 1;}#sk-container-id-4 div.sk-label:hover label.sk-toggleable__label {background-color: #d4ebff;}#sk-container-id-4 div.sk-serial::before {content: \"\";position: absolute;border-left: 1px solid gray;box-sizing: border-box;top: 0;bottom: 0;left: 50%;z-index: 0;}#sk-container-id-4 div.sk-serial {display: flex;flex-direction: column;align-items: center;background-color: white;padding-right: 0.2em;padding-left: 0.2em;position: relative;}#sk-container-id-4 div.sk-item {position: relative;z-index: 1;}#sk-container-id-4 div.sk-parallel {display: flex;align-items: stretch;justify-content: center;background-color: white;position: relative;}#sk-container-id-4 div.sk-item::before, #sk-container-id-4 div.sk-parallel-item::before {content: \"\";position: absolute;border-left: 1px solid gray;box-sizing: border-box;top: 0;bottom: 0;left: 50%;z-index: -1;}#sk-container-id-4 div.sk-parallel-item {display: flex;flex-direction: column;z-index: 1;position: relative;background-color: white;}#sk-container-id-4 div.sk-parallel-item:first-child::after {align-self: flex-end;width: 50%;}#sk-container-id-4 div.sk-parallel-item:last-child::after {align-self: flex-start;width: 50%;}#sk-container-id-4 div.sk-parallel-item:only-child::after {width: 0;}#sk-container-id-4 div.sk-dashed-wrapped {border: 1px dashed gray;margin: 0 0.4em 0.5em 0.4em;box-sizing: border-box;padding-bottom: 0.4em;background-color: white;}#sk-container-id-4 div.sk-label label {font-family: monospace;font-weight: bold;display: inline-block;line-height: 1.2em;}#sk-container-id-4 div.sk-label-container {text-align: center;}#sk-container-id-4 div.sk-container {/* jupyter's `normalize.less` sets `[hidden] { display: none; }` but bootstrap.min.css set `[hidden] { display: none !important; }` so we also need the `!important` here to be able to override the default hidden behavior on the sphinx rendered scikit-learn.org. See: https://github.com/scikit-learn/scikit-learn/issues/21755 */display: inline-block !important;position: relative;}#sk-container-id-4 div.sk-text-repr-fallback {display: none;}</style><div id=\"sk-container-id-4\" class=\"sk-top-container\"><div class=\"sk-text-repr-fallback\"><pre>SVC()</pre><b>In a Jupyter environment, please rerun this cell to show the HTML representation or trust the notebook. <br />On GitHub, the HTML representation is unable to render, please try loading this page with nbviewer.org.</b></div><div class=\"sk-container\" hidden><div class=\"sk-item\"><div class=\"sk-estimator sk-toggleable\"><input class=\"sk-toggleable__control sk-hidden--visually\" id=\"sk-estimator-id-4\" type=\"checkbox\" checked><label for=\"sk-estimator-id-4\" class=\"sk-toggleable__label sk-toggleable__label-arrow\">SVC</label><div class=\"sk-toggleable__content\"><pre>SVC()</pre></div></div></div></div></div>"
      ],
      "text/plain": [
       "SVC()"
      ]
     },
     "execution_count": 42,
     "metadata": {},
     "output_type": "execute_result"
    }
   ],
   "source": [
    "#SVC model\n",
    "from sklearn.svm import SVC \n",
    "lg=SVC()\n",
    "lg.fit(train_x,train_y)"
   ]
  },
  {
   "cell_type": "code",
   "execution_count": 51,
   "metadata": {},
   "outputs": [
    {
     "data": {
      "text/plain": [
       "60"
      ]
     },
     "execution_count": 51,
     "metadata": {},
     "output_type": "execute_result"
    }
   ],
   "source": [
    "yhat=lg.predict(test_x)\n",
    "yhat\n",
    "len(yhat)"
   ]
  },
  {
   "cell_type": "code",
   "execution_count": 44,
   "metadata": {},
   "outputs": [
    {
     "data": {
      "text/plain": [
       "0.55"
      ]
     },
     "execution_count": 44,
     "metadata": {},
     "output_type": "execute_result"
    }
   ],
   "source": [
    "accuracy_score(test_y,yhat)"
   ]
  },
  {
   "cell_type": "code",
   "execution_count": null,
   "metadata": {},
   "outputs": [],
   "source": [
    "#Sequential Model (neural network)\n",
    "from tensorflow.keras.models import Sequential\n",
    "from tensorflow.keras.layers import Dense\n",
    "model=Sequential()\n",
    "model.add(Dense(64,input_dim=train_x.shape[1],activation='relu',name='sh_dense1'))\n",
    "model.add(Dense(3,activation='softmax',name='sh_dense2'))\n",
    "model.compile(loss='sparse_categorical_crossentropy',optimizer='adam',metrics=['accuracy'])\n",
    "model.summary()\n",
    "model.fit(train_x,train_y,epochs=300)"
   ]
  },
  {
   "cell_type": "code",
   "execution_count": 46,
   "metadata": {},
   "outputs": [
    {
     "name": "stdout",
     "output_type": "stream",
     "text": [
      "8/8 [==============================] - 0s 1ms/step - loss: 0.6095 - accuracy: 0.9125\n"
     ]
    }
   ],
   "source": [
    "z=model.evaluate(train_x,train_y)   #will have to change this so that model does not use the same data as training in the evaluation phase"
   ]
  },
  {
   "cell_type": "code",
   "execution_count": 56,
   "metadata": {},
   "outputs": [
    {
     "name": "stdout",
     "output_type": "stream",
     "text": [
      "2/2 [==============================] - 0s 4ms/step - loss: 16.2249 - accuracy: 0.5333\n"
     ]
    }
   ],
   "source": [
    "z=model.evaluate(test_x,test_y) # testing"
   ]
  },
  {
   "cell_type": "code",
   "execution_count": 58,
   "metadata": {},
   "outputs": [],
   "source": [
    "yhat=model.predict(test_x)   #using test data in prediction phase... need better split for phase, need to look at Jarryd Son notes notebooks for better split."
   ]
  },
  {
   "cell_type": "code",
   "execution_count": null,
   "metadata": {},
   "outputs": [],
   "source": [
    "accuracy_score(test_y,yhat)\n"
   ]
  }
 ],
 "metadata": {
  "kernelspec": {
   "display_name": "base",
   "language": "python",
   "name": "python3"
  },
  "language_info": {
   "codemirror_mode": {
    "name": "ipython",
    "version": 3
   },
   "file_extension": ".py",
   "mimetype": "text/x-python",
   "name": "python",
   "nbconvert_exporter": "python",
   "pygments_lexer": "ipython3",
   "version": "3.8.13"
  },
  "orig_nbformat": 4
 },
 "nbformat": 4,
 "nbformat_minor": 2
}
