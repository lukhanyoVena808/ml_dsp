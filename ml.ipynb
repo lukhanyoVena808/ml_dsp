{
 "cells": [
  {
   "cell_type": "code",
   "execution_count": null,
   "metadata": {},
   "outputs": [],
   "source": [
    "#All code adapted from: https://www.kaggle.com/code/tard232003/20bd1a6754-basic-shapes\n",
    "import numpy as np # linear algebra\n",
    "import pandas as pd # data processing, CSV file I/O (e.g. pd.read_csv)\n",
    "import matplotlib.pyplot as plt\n",
    "from matplotlib import image\n",
    "import os\n",
    "\n",
    "# Input data files are available in the read-only \"../input/\" directory\n",
    "\n",
    "for dirname, _, filenames in os.walk('shapes'):\n",
    "    for filename in filenames:\n",
    "        print(os.path.join(dirname, filename))"
   ]
  },
  {
   "cell_type": "code",
   "execution_count": null,
   "metadata": {},
   "outputs": [],
   "source": [
    "im=image.imread('shapes/squares/drawing(1).png')\n"
   ]
  },
  {
   "cell_type": "code",
   "execution_count": null,
   "metadata": {},
   "outputs": [],
   "source": [
    "plt.imshow(im)"
   ]
  },
  {
   "cell_type": "code",
   "execution_count": null,
   "metadata": {},
   "outputs": [],
   "source": [
    "\n",
    "#Flattening the images, makes each image into 1d-array -> with the output\n",
    "from PIL import Image\n",
    "def load_imgs(impath):\n",
    "    imgs=[]\n",
    "    label=[]\n",
    "    l1=os.listdir(impath)\n",
    "    for i in l1:\n",
    "        l2=os.listdir(impath+'/'+i)\n",
    "        for j in l2:\n",
    "            c=0\n",
    "            img=Image.open(impath+i+'/'+j)\n",
    "            img=img.resize(size=(32,32))\n",
    "            img=img.convert('L')\n",
    "            imgs.append(np.array(img).flatten())\n",
    "            label.append(i)\n",
    "            del img\n",
    "    return np.array(imgs),label"
   ]
  },
  {
   "cell_type": "code",
   "execution_count": null,
   "metadata": {},
   "outputs": [],
   "source": [
    "#getting flattened images, each shape( triangle, circle, square) has 100 images, and each image is an array (32 x 32 = 1024 elements), \n",
    "# and the output y is the shape each array is associated with.\n",
    "x,y=load_imgs('shapes/shapes/')\n",
    "x.shape,len(y)"
   ]
  },
  {
   "cell_type": "code",
   "execution_count": null,
   "metadata": {},
   "outputs": [],
   "source": [
    "# Printing possible truth - labels\n",
    "target=pd.Series(y,dtype='category')\n",
    "target"
   ]
  },
  {
   "cell_type": "code",
   "execution_count": null,
   "metadata": {},
   "outputs": [],
   "source": [
    "t=target.cat.codes\n",
    "t"
   ]
  },
  {
   "cell_type": "code",
   "execution_count": null,
   "metadata": {},
   "outputs": [],
   "source": [
    "from sklearn.model_selection import train_test_split\n",
    "train_x,test_x,train_y,test_y=train_test_split(x,t,test_size=0.2,shuffle=True)\n",
    "train_x.shape,test_x.shape,train_y.shape,test_y.shape"
   ]
  },
  {
   "cell_type": "code",
   "execution_count": null,
   "metadata": {},
   "outputs": [],
   "source": [
    "#LOGISTIC REGRESSION model\n",
    "from sklearn.linear_model import LogisticRegression\n",
    "lg=LogisticRegression(max_iter=200,solver='saga')\n",
    "lg.fit(train_x,train_y)"
   ]
  },
  {
   "cell_type": "code",
   "execution_count": null,
   "metadata": {},
   "outputs": [],
   "source": [
    "yhat=lg.predict(test_x)   #making predictions, but modle might need more training, has no validation phase\n",
    "yhat"
   ]
  },
  {
   "cell_type": "code",
   "execution_count": null,
   "metadata": {},
   "outputs": [],
   "source": [
    "from sklearn.metrics import accuracy_score\n",
    "accuracy_score(test_y,yhat)   #computing accuarcy"
   ]
  },
  {
   "cell_type": "code",
   "execution_count": null,
   "metadata": {},
   "outputs": [],
   "source": [
    "#SVC model\n",
    "from sklearn.svm import SVC \n",
    "lg=SVC()\n",
    "lg.fit(train_x,train_y)"
   ]
  },
  {
   "cell_type": "code",
   "execution_count": null,
   "metadata": {},
   "outputs": [],
   "source": [
    "yhat=lg.predict(test_x)\n",
    "yhat"
   ]
  },
  {
   "cell_type": "code",
   "execution_count": null,
   "metadata": {},
   "outputs": [],
   "source": [
    "accuracy_score(test_y,yhat)"
   ]
  },
  {
   "cell_type": "code",
   "execution_count": null,
   "metadata": {},
   "outputs": [],
   "source": [
    "#Sequential Model (neural network)\n",
    "from tensorflow.keras.models import Sequential\n",
    "from tensorflow.keras.layers import Dense\n",
    "model=Sequential()\n",
    "model.add(Dense(64,input_dim=train_x.shape[1],activation='relu',name='sh_dense1'))\n",
    "model.add(Dense(3,activation='softmax',name='sh_dense2'))\n",
    "model.compile(loss='sparse_categorical_crossentropy',optimizer='adam',metrics=['accuracy'])\n",
    "model.summary()\n",
    "model.fit(train_x,train_y,epochs=300)"
   ]
  },
  {
   "cell_type": "code",
   "execution_count": null,
   "metadata": {},
   "outputs": [],
   "source": [
    "z=model.evaluate(train_x,train_y)   #will have to change this so that model does not use the same data as training in the evaluation phase"
   ]
  },
  {
   "cell_type": "code",
   "execution_count": null,
   "metadata": {},
   "outputs": [],
   "source": [
    "z=model.evaluate(test_x,test_y) # testing"
   ]
  }
 ],
 "metadata": {
  "kernelspec": {
   "display_name": "base",
   "language": "python",
   "name": "python3"
  },
  "language_info": {
   "codemirror_mode": {
    "name": "ipython",
    "version": 3
   },
   "file_extension": ".py",
   "mimetype": "text/x-python",
   "name": "python",
   "nbconvert_exporter": "python",
   "pygments_lexer": "ipython3",
   "version": "3.8.13"
  },
  "orig_nbformat": 4
 },
 "nbformat": 4,
 "nbformat_minor": 2
}
